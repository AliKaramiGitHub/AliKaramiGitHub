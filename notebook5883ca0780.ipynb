{
 "cells": [
  {
   "cell_type": "code",
   "execution_count": 1,
   "id": "a0a0d157",
   "metadata": {
    "_cell_guid": "b1076dfc-b9ad-4769-8c92-a6c4dae69d19",
    "_uuid": "8f2839f25d086af736a60e9eeb907d3b93b6e0e5",
    "execution": {
     "iopub.execute_input": "2022-05-18T09:41:02.143402Z",
     "iopub.status.busy": "2022-05-18T09:41:02.142854Z",
     "iopub.status.idle": "2022-05-18T09:41:02.168006Z",
     "shell.execute_reply": "2022-05-18T09:41:02.167061Z"
    },
    "papermill": {
     "duration": 0.037598,
     "end_time": "2022-05-18T09:41:02.170477",
     "exception": false,
     "start_time": "2022-05-18T09:41:02.132879",
     "status": "completed"
    },
    "tags": []
   },
   "outputs": [
    {
     "name": "stdout",
     "output_type": "stream",
     "text": [
      "/kaggle/input/creditcardfraud/creditcard.csv\n"
     ]
    }
   ],
   "source": [
    "# This Python 3 environment comes with many helpful analytics libraries installed\n",
    "# It is defined by the kaggle/python Docker image: https://github.com/kaggle/docker-python\n",
    "# For example, here's several helpful packages to load\n",
    "\n",
    "import numpy as np # linear algebra\n",
    "import pandas as pd # data processing, CSV file I/O (e.g. pd.read_csv)\n",
    "\n",
    "# Input data files are available in the read-only \"../input/\" directory\n",
    "# For example, running this (by clicking run or pressing Shift+Enter) will list all files under the input directory\n",
    "\n",
    "import os\n",
    "for dirname, _, filenames in os.walk('/kaggle/input'):\n",
    "    for filename in filenames:\n",
    "        print(os.path.join(dirname, filename))\n",
    "\n",
    "# You can write up to 20GB to the current directory (/kaggle/working/) that gets preserved as output when you create a version using \"Save & Run All\" \n",
    "# You can also write temporary files to /kaggle/temp/, but they won't be saved outside of the current session"
   ]
  },
  {
   "cell_type": "code",
   "execution_count": 2,
   "id": "0d97668a",
   "metadata": {
    "execution": {
     "iopub.execute_input": "2022-05-18T09:41:02.187186Z",
     "iopub.status.busy": "2022-05-18T09:41:02.186582Z",
     "iopub.status.idle": "2022-05-18T09:41:07.909659Z",
     "shell.execute_reply": "2022-05-18T09:41:07.908475Z"
    },
    "papermill": {
     "duration": 5.733931,
     "end_time": "2022-05-18T09:41:07.912209",
     "exception": false,
     "start_time": "2022-05-18T09:41:02.178278",
     "status": "completed"
    },
    "tags": []
   },
   "outputs": [],
   "source": [
    "df = pd.read_csv('../input/creditcardfraud/creditcard.csv')"
   ]
  },
  {
   "cell_type": "code",
   "execution_count": 3,
   "id": "c3188dd7",
   "metadata": {
    "execution": {
     "iopub.execute_input": "2022-05-18T09:41:07.928999Z",
     "iopub.status.busy": "2022-05-18T09:41:07.928113Z",
     "iopub.status.idle": "2022-05-18T09:41:07.932953Z",
     "shell.execute_reply": "2022-05-18T09:41:07.932101Z"
    },
    "papermill": {
     "duration": 0.01565,
     "end_time": "2022-05-18T09:41:07.935123",
     "exception": false,
     "start_time": "2022-05-18T09:41:07.919473",
     "status": "completed"
    },
    "tags": []
   },
   "outputs": [],
   "source": [
    "import pandas as pd"
   ]
  },
  {
   "cell_type": "code",
   "execution_count": null,
   "id": "0f7751e0",
   "metadata": {
    "execution": {
     "iopub.execute_input": "2022-05-18T09:36:45.898651Z",
     "iopub.status.busy": "2022-05-18T09:36:45.898380Z",
     "iopub.status.idle": "2022-05-18T09:36:45.904913Z",
     "shell.execute_reply": "2022-05-18T09:36:45.903977Z",
     "shell.execute_reply.started": "2022-05-18T09:36:45.898623Z"
    },
    "papermill": {
     "duration": 0.006772,
     "end_time": "2022-05-18T09:41:07.948870",
     "exception": false,
     "start_time": "2022-05-18T09:41:07.942098",
     "status": "completed"
    },
    "tags": []
   },
   "outputs": [],
   "source": []
  },
  {
   "cell_type": "code",
   "execution_count": null,
   "id": "ffee6698",
   "metadata": {
    "papermill": {
     "duration": 0.006797,
     "end_time": "2022-05-18T09:41:07.962695",
     "exception": false,
     "start_time": "2022-05-18T09:41:07.955898",
     "status": "completed"
    },
    "tags": []
   },
   "outputs": [],
   "source": []
  }
 ],
 "metadata": {
  "kernelspec": {
   "display_name": "Python 3",
   "language": "python",
   "name": "python3"
  },
  "language_info": {
   "codemirror_mode": {
    "name": "ipython",
    "version": 3
   },
   "file_extension": ".py",
   "mimetype": "text/x-python",
   "name": "python",
   "nbconvert_exporter": "python",
   "pygments_lexer": "ipython3",
   "version": "3.7.12"
  },
  "papermill": {
   "default_parameters": {},
   "duration": 16.858984,
   "end_time": "2022-05-18T09:41:08.893873",
   "environment_variables": {},
   "exception": null,
   "input_path": "__notebook__.ipynb",
   "output_path": "__notebook__.ipynb",
   "parameters": {},
   "start_time": "2022-05-18T09:40:52.034889",
   "version": "2.3.4"
  }
 },
 "nbformat": 4,
 "nbformat_minor": 5
}
